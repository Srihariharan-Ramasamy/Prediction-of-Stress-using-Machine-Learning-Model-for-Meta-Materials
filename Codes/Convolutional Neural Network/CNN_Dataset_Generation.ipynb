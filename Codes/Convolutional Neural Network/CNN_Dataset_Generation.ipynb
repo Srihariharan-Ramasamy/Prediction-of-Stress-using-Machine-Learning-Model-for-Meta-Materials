{
 "cells": [
  {
   "cell_type": "code",
   "execution_count": null,
   "id": "dcd9d9f9-dd40-4208-98aa-dcc465190949",
   "metadata": {},
   "outputs": [],
   "source": [
    "from pathlib import Path\n",
    "import pandas as pd\n",
    "import numpy as np\n",
    "import re\n",
    "\n",
    "IMAGES_DIR = Path(r\"G:\\Other computers\\Dell G3\\Universitat\\2nd Semester\\MLMM\\New\\Images\")\n",
    "STRESS_CSV = Path(r\"G:\\Other computers\\Dell G3\\Universitat\\2nd Semester\\MLMM\\New\\StressValsreal.csv\")\n",
    "OUT_CSV    = Path(\"labels.csv\")\n",
    "\n",
    "# Load CSV\n",
    "df = pd.read_csv(STRESS_CSV, sep=\";\", engine=\"python\")\n",
    "df = df.rename(columns=lambda c: c.strip())  # trim spaces from headers\n",
    "\n",
    "# Rename stress column\n",
    "if \"25\" in df.columns:\n",
    "    df = df.rename(columns={\"25\": \"stress\"})\n",
    "elif \"Stress\" in df.columns:\n",
    "    df = df.rename(columns={\"Stress\": \"stress\"})\n",
    "\n",
    "# Find class columns (Class 0..3)\n",
    "class_cols = sorted([c for c in df.columns if c.lower().startswith(\"class\")],\n",
    "                    key=lambda x: int(re.sub(r\"\\D\", \"\", x) or \"-1\"))\n",
    "df[\"bracket\"] = np.argmax(df[class_cols].to_numpy(), axis=1).astype(int)\n",
    "\n",
    "print(\"Detected class columns:\", class_cols)\n",
    "print(\"Sample rows:\")\n",
    "print(df[[\"stress\", \"bracket\"]].head())\n",
    "\n",
    "# Scan image files and natural-sort\n",
    "exts = {\".png\", \".jpg\", \".jpeg\", \".bmp\", \".tif\", \".tiff\"}\n",
    "imgs = [p for p in IMAGES_DIR.iterdir() if p.suffix.lower() in exts]\n",
    "assert imgs, f\"No images found in {IMAGES_DIR}\"\n",
    "\n",
    "def extract_idx(path):\n",
    "    m = re.search(r\"(\\d+)(?=\\.[^.]+$)\", path.name)\n",
    "    if not m:\n",
    "        raise ValueError(f\"Cannot extract numeric id from filename: {path.name}\")\n",
    "    return int(m.group(1))\n",
    "\n",
    "imgs_sorted = sorted(imgs, key=extract_idx)\n",
    "\n",
    "print(\"First 5 images after sorting:\",\n",
    "      [p.name for p in imgs_sorted[:5]])\n",
    "\n",
    "# Align by order & create labels.csv\n",
    "assert len(imgs_sorted) == len(df), \\\n",
    "    f\"Counts differ: {len(imgs_sorted)} images vs {len(df)} CSV rows. Check folder/CSV.\"\n",
    "\n",
    "labels = pd.DataFrame({\n",
    "    \"filename\": [p.name for p in imgs_sorted],\n",
    "    \"stress\":   df[\"stress\"].astype(float).to_numpy(),\n",
    "    \"bracket\":  df[\"bracket\"].to_numpy()\n",
    "})\n",
    "\n",
    "labels.to_csv(OUT_CSV, index=False)\n",
    "print(f\"\\nSaved {len(labels)} rows to {OUT_CSV.resolve()}\")\n",
    "print(labels.head(6))\n"
   ]
  },
  {
   "cell_type": "code",
   "execution_count": null,
   "id": "771e115b-7e75-4aa8-a631-3a63a3a1b193",
   "metadata": {},
   "outputs": [],
   "source": [
    "from pathlib import Path\n",
    "import pandas as pd\n",
    "\n",
    "OUT_CSV = Path(r\"G:\\Other computers\\Dell G3\\Universitat\\2nd Semester\\MLMM\\New\\labels.csv\")\n",
    "\n",
    "labels.to_csv(OUT_CSV, index=False, encoding=\"utf-8-sig\")\n",
    "print(\"Saved to:\", OUT_CSV)\n",
    "print(\"Exists?\", OUT_CSV.exists(), \" Size (bytes):\", OUT_CSV.stat().st_size if OUT_CSV.exists() else \"N/A\")\n",
    "\n",
    "print(pd.read_csv(OUT_CSV).head())\n"
   ]
  },
  {
   "cell_type": "code",
   "execution_count": null,
   "id": "d6ae8f53-7f88-4863-9ad1-c8956d905d7a",
   "metadata": {},
   "outputs": [],
   "source": []
  }
 ],
 "metadata": {
  "kernelspec": {
   "display_name": "Python 3",
   "language": "python",
   "name": "python3"
  },
  "language_info": {
   "codemirror_mode": {
    "name": "ipython",
    "version": 3
   },
   "file_extension": ".py",
   "mimetype": "text/x-python",
   "name": "python",
   "nbconvert_exporter": "python",
   "pygments_lexer": "ipython3",
   "version": "3.12.10"
  }
 },
 "nbformat": 4,
 "nbformat_minor": 5
}
